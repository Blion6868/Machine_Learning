{
 "cells": [
  {
   "cell_type": "code",
   "execution_count": 1,
   "id": "generous-venezuela",
   "metadata": {},
   "outputs": [],
   "source": [
    "import pandas as pd\n",
    "import numpy as np\n",
    "from sklearn.model_selection import train_test_split"
   ]
  },
  {
   "cell_type": "markdown",
   "id": "independent-chrome",
   "metadata": {},
   "source": [
    "Project from Thomas Nield's Essential Math for Data Science"
   ]
  },
  {
   "cell_type": "code",
   "execution_count": 16,
   "id": "iraqi-circulation",
   "metadata": {},
   "outputs": [
    {
     "data": {
      "text/html": [
       "<div>\n",
       "<style scoped>\n",
       "    .dataframe tbody tr th:only-of-type {\n",
       "        vertical-align: middle;\n",
       "    }\n",
       "\n",
       "    .dataframe tbody tr th {\n",
       "        vertical-align: top;\n",
       "    }\n",
       "\n",
       "    .dataframe thead th {\n",
       "        text-align: right;\n",
       "    }\n",
       "</style>\n",
       "<table border=\"1\" class=\"dataframe\">\n",
       "  <thead>\n",
       "    <tr style=\"text-align: right;\">\n",
       "      <th></th>\n",
       "      <th>RED</th>\n",
       "      <th>GREEN</th>\n",
       "      <th>BLUE</th>\n",
       "      <th>LIGHT_OR_DARK_FONT_IND</th>\n",
       "    </tr>\n",
       "  </thead>\n",
       "  <tbody>\n",
       "    <tr>\n",
       "      <th>0</th>\n",
       "      <td>0</td>\n",
       "      <td>0</td>\n",
       "      <td>0</td>\n",
       "      <td>0</td>\n",
       "    </tr>\n",
       "    <tr>\n",
       "      <th>1</th>\n",
       "      <td>0</td>\n",
       "      <td>0</td>\n",
       "      <td>128</td>\n",
       "      <td>0</td>\n",
       "    </tr>\n",
       "    <tr>\n",
       "      <th>2</th>\n",
       "      <td>0</td>\n",
       "      <td>0</td>\n",
       "      <td>139</td>\n",
       "      <td>0</td>\n",
       "    </tr>\n",
       "    <tr>\n",
       "      <th>3</th>\n",
       "      <td>0</td>\n",
       "      <td>0</td>\n",
       "      <td>205</td>\n",
       "      <td>0</td>\n",
       "    </tr>\n",
       "    <tr>\n",
       "      <th>4</th>\n",
       "      <td>0</td>\n",
       "      <td>0</td>\n",
       "      <td>238</td>\n",
       "      <td>0</td>\n",
       "    </tr>\n",
       "  </tbody>\n",
       "</table>\n",
       "</div>"
      ],
      "text/plain": [
       "   RED  GREEN  BLUE  LIGHT_OR_DARK_FONT_IND\n",
       "0    0      0     0                       0\n",
       "1    0      0   128                       0\n",
       "2    0      0   139                       0\n",
       "3    0      0   205                       0\n",
       "4    0      0   238                       0"
      ]
     },
     "execution_count": 16,
     "metadata": {},
     "output_type": "execute_result"
    }
   ],
   "source": [
    "all_data = pd.read_csv(\"https://tinyurl.com/y2qmhfsr\")\n",
    "all_data.head()"
   ]
  },
  {
   "cell_type": "code",
   "execution_count": 17,
   "id": "african-anchor",
   "metadata": {},
   "outputs": [
    {
     "data": {
      "text/plain": [
       "RED                       215077\n",
       "GREEN                     194316\n",
       "BLUE                      182750\n",
       "LIGHT_OR_DARK_FONT_IND       833\n",
       "dtype: int64"
      ]
     },
     "execution_count": 17,
     "metadata": {},
     "output_type": "execute_result"
    }
   ],
   "source": [
    "all_data.sum()"
   ]
  },
  {
   "cell_type": "code",
   "execution_count": 22,
   "id": "experienced-honolulu",
   "metadata": {},
   "outputs": [
    {
     "data": {
      "text/plain": [
       "RED                       0\n",
       "GREEN                     0\n",
       "BLUE                      0\n",
       "LIGHT_OR_DARK_FONT_IND    0\n",
       "dtype: int64"
      ]
     },
     "execution_count": 22,
     "metadata": {},
     "output_type": "execute_result"
    }
   ],
   "source": [
    "all_data.isnull().sum()"
   ]
  },
  {
   "cell_type": "code",
   "execution_count": 23,
   "id": "hispanic-market",
   "metadata": {},
   "outputs": [],
   "source": [
    "#learning rate is set to .05, not too small or too big\n",
    "\n",
    "L = 0.05"
   ]
  },
  {
   "cell_type": "code",
   "execution_count": 24,
   "id": "educational-apache",
   "metadata": {},
   "outputs": [],
   "source": [
    "#split data between inputs and outputs\n",
    "\n",
    "all_inputs = (all_data.iloc[:, 0:3].values / 255.00)\n",
    "all_outputs = all_data.iloc[:, -1].values"
   ]
  },
  {
   "cell_type": "code",
   "execution_count": 25,
   "id": "partial-incident",
   "metadata": {},
   "outputs": [],
   "source": [
    "#split data again for training and testing\n",
    "\n",
    "X_train, X_test, y_train, y_test = train_test_split(all_inputs, all_outputs, test_size=1 / 3)\n",
    "n = X_train.shape[0]"
   ]
  },
  {
   "cell_type": "code",
   "execution_count": 6,
   "id": "norwegian-therapist",
   "metadata": {},
   "outputs": [
    {
     "data": {
      "text/plain": [
       "896"
      ]
     },
     "execution_count": 6,
     "metadata": {},
     "output_type": "execute_result"
    }
   ],
   "source": [
    "n"
   ]
  },
  {
   "cell_type": "code",
   "execution_count": 26,
   "id": "incident-blocking",
   "metadata": {},
   "outputs": [],
   "source": [
    "#define weights and biases randomly\n",
    "\n",
    "w_hidden = np.random.rand(3, 3)\n",
    "w_output = np.random.rand(1, 3)\n",
    "\n",
    "b_hidden = np.random.rand(3, 1)\n",
    "b_output = np.random.rand(1, 1)"
   ]
  },
  {
   "cell_type": "code",
   "execution_count": 27,
   "id": "reflected-gallery",
   "metadata": {},
   "outputs": [],
   "source": [
    "#define activation functions\n",
    "\n",
    "relu = lambda x: np.maximum(x, 0)\n",
    "logistic = lambda x: 1 / (1 + np.exp(-x))"
   ]
  },
  {
   "cell_type": "code",
   "execution_count": 28,
   "id": "incorrect-difference",
   "metadata": {},
   "outputs": [],
   "source": [
    "#devise forward pass, the initial training of the model\n",
    "\n",
    "def forward_prop(X):\n",
    "    Z1 = w_hidden @ X + b_hidden\n",
    "    A1 = relu(Z1)\n",
    "    Z2 = w_output @ A1 + b_output\n",
    "    A2 = logistic(Z2)\n",
    "    return Z1, A1, Z2, A2"
   ]
  },
  {
   "cell_type": "code",
   "execution_count": 43,
   "id": "rational-reset",
   "metadata": {},
   "outputs": [
    {
     "data": {
      "text/plain": [
       "array([[-3.4262595 ],\n",
       "       [-3.20672437],\n",
       "       [-3.91469438]])"
      ]
     },
     "execution_count": 43,
     "metadata": {},
     "output_type": "execute_result"
    }
   ],
   "source": [
    "Z1"
   ]
  },
  {
   "cell_type": "code",
   "execution_count": 44,
   "id": "future-receiver",
   "metadata": {},
   "outputs": [
    {
     "data": {
      "text/plain": [
       "array([[0.],\n",
       "       [0.],\n",
       "       [0.]])"
      ]
     },
     "execution_count": 44,
     "metadata": {},
     "output_type": "execute_result"
    }
   ],
   "source": [
    "A1"
   ]
  },
  {
   "cell_type": "code",
   "execution_count": 45,
   "id": "protecting-milton",
   "metadata": {},
   "outputs": [
    {
     "data": {
      "text/plain": [
       "array([[-5.44904514]])"
      ]
     },
     "execution_count": 45,
     "metadata": {},
     "output_type": "execute_result"
    }
   ],
   "source": [
    "Z2"
   ]
  },
  {
   "cell_type": "code",
   "execution_count": 46,
   "id": "equal-regular",
   "metadata": {},
   "outputs": [
    {
     "data": {
      "text/plain": [
       "array([[0.00428199]])"
      ]
     },
     "execution_count": 46,
     "metadata": {},
     "output_type": "execute_result"
    }
   ],
   "source": [
    "A2"
   ]
  },
  {
   "cell_type": "code",
   "execution_count": 30,
   "id": "complex-regular",
   "metadata": {},
   "outputs": [],
   "source": [
    "#derivatives of activation functions\n",
    "\n",
    "d_relu = lambda x: x > 0\n",
    "d_logistic = lambda x: np.exp(-x) / (1 + np.exp(-x)) ** 2"
   ]
  },
  {
   "cell_type": "code",
   "execution_count": 31,
   "id": "significant-exhibit",
   "metadata": {},
   "outputs": [],
   "source": [
    "#define backward propogation using matrix multiplication\n",
    "\n",
    "def backward_prop(Z1, A1, Z2, A2, X, y):\n",
    "    dC_dA2 = 2 * A2 - 2 * y\n",
    "    dA2_dZ2 = d_logistic(Z2)\n",
    "    dZ2_dA1 = w_output\n",
    "    dZ2_dW2 = A1\n",
    "    dZ2_dB2 = 1\n",
    "    dA1_dZ1 = d_relu(Z1)\n",
    "    dZ1_dW1 = X\n",
    "    dZ1_dB1 = 1\n",
    "    \n",
    "    dC_dW2 = dC_dA2 @ dA2_dZ2 @ dZ2_dW2.T\n",
    "    dC_dB2 = dC_dA2 @ dA2_dZ2 * dZ2_dB2\n",
    "    dC_dA1 = dC_dA2 @ dA2_dZ2 @ dZ2_dA1\n",
    "    dC_dW1 = dC_dA1 @ dA1_dZ1 @ dZ1_dW1.T\n",
    "    dC_dB1 = dC_dA1 @ dA1_dZ1 * dZ1_dB1\n",
    "    return dC_dW1, dC_dB1, dC_dW2, dC_dB2\n",
    "    "
   ]
  },
  {
   "cell_type": "code",
   "execution_count": 32,
   "id": "removed-happening",
   "metadata": {},
   "outputs": [],
   "source": [
    "#update the weights and biases as model trains\n",
    "\n",
    "for i in range(100_000):\n",
    "    idx = np.random.choice(n, 1, replace=False)\n",
    "    X_sample = X_train[idx].transpose()\n",
    "    y_sample = y_train[idx]\n",
    "    \n",
    "    Z1, A1, Z2, A2 = forward_prop(X_sample)\n",
    "    \n",
    "    dW1, dB1, dW2, dB2 = backward_prop(Z1, A1, Z2, A2, X_sample, y_sample)\n",
    "    \n",
    "    w_hidden -= L * dW1\n",
    "    b_hidden -= L * dB1\n",
    "    w_output -= L * dW2\n",
    "    b_output -= L * dB2"
   ]
  },
  {
   "cell_type": "code",
   "execution_count": 39,
   "id": "complex-offset",
   "metadata": {},
   "outputs": [
    {
     "data": {
      "text/plain": [
       "array([[4.14871212, 8.12738159, 1.60115839],\n",
       "       [3.68851641, 8.48445087, 1.08026492],\n",
       "       [3.58476487, 8.36571598, 1.21087937]])"
      ]
     },
     "execution_count": 39,
     "metadata": {},
     "output_type": "execute_result"
    }
   ],
   "source": [
    "w_hidden"
   ]
  },
  {
   "cell_type": "code",
   "execution_count": 40,
   "id": "union-manner",
   "metadata": {},
   "outputs": [
    {
     "data": {
      "text/plain": [
       "array([[-6.56050264],\n",
       "       [-5.80617772],\n",
       "       [-6.52879066]])"
      ]
     },
     "execution_count": 40,
     "metadata": {},
     "output_type": "execute_result"
    }
   ],
   "source": [
    "b_hidden"
   ]
  },
  {
   "cell_type": "code",
   "execution_count": 41,
   "id": "expressed-character",
   "metadata": {},
   "outputs": [
    {
     "data": {
      "text/plain": [
       "array([[4.55357226, 2.16478062, 3.78413628]])"
      ]
     },
     "execution_count": 41,
     "metadata": {},
     "output_type": "execute_result"
    }
   ],
   "source": [
    "w_output"
   ]
  },
  {
   "cell_type": "code",
   "execution_count": 42,
   "id": "decimal-optics",
   "metadata": {},
   "outputs": [
    {
     "data": {
      "text/plain": [
       "array([[-5.44904697]])"
      ]
     },
     "execution_count": 42,
     "metadata": {},
     "output_type": "execute_result"
    }
   ],
   "source": [
    "b_output"
   ]
  },
  {
   "cell_type": "code",
   "execution_count": 33,
   "id": "seventh-confidence",
   "metadata": {},
   "outputs": [
    {
     "name": "stdout",
     "output_type": "stream",
     "text": [
      "ACCURACY:  0.9755011135857389\n"
     ]
    }
   ],
   "source": [
    "#predict results\n",
    "\n",
    "test_predictions = forward_prop(X_test.transpose())[3]\n",
    "\n",
    "test_comparisons = np.equal((test_predictions >= .5).flatten().astype(int), y_test)\n",
    "\n",
    "accuracy = sum(test_comparisons.astype(int) / X_test.shape[0])\n",
    "\n",
    "print(\"ACCURACY: \", accuracy)"
   ]
  },
  {
   "cell_type": "code",
   "execution_count": null,
   "id": "agreed-botswana",
   "metadata": {},
   "outputs": [],
   "source": []
  }
 ],
 "metadata": {
  "kernelspec": {
   "display_name": "Python 3",
   "language": "python",
   "name": "python3"
  },
  "language_info": {
   "codemirror_mode": {
    "name": "ipython",
    "version": 3
   },
   "file_extension": ".py",
   "mimetype": "text/x-python",
   "name": "python",
   "nbconvert_exporter": "python",
   "pygments_lexer": "ipython3",
   "version": "3.7.9"
  }
 },
 "nbformat": 4,
 "nbformat_minor": 5
}
