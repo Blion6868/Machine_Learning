{
  "nbformat": 4,
  "nbformat_minor": 0,
  "metadata": {
    "colab": {
      "provenance": []
    },
    "kernelspec": {
      "name": "python3",
      "display_name": "Python 3"
    },
    "language_info": {
      "name": "python"
    }
  },
  "cells": [
    {
      "cell_type": "code",
      "execution_count": null,
      "metadata": {
        "id": "AcYv359ZEV6c"
      },
      "outputs": [],
      "source": [
        "import openai\n",
        "import time\n",
        "\n",
        "openai.api_key = 'API_key'\n",
        "\n",
        "def get_novel_summary():\n",
        "    novel_title = input(\"Enter the novel title: \")\n",
        "    novel_author = input(\"Enter the novel author: \")\n",
        "    num_sentences = input(\"Enter the number of sentences for the summary: \")\n",
        "    chapter_or_section = input(\"Enter the chapter or section to summarize (leave blank for entire book): \")\n",
        "\n",
        "    while True:\n",
        "        try:\n",
        "            response = openai.ChatCompletion.create(\n",
        "                model=\"gpt-3.5-turbo\",\n",
        "                messages=[\n",
        "                    {\n",
        "                        \"role\": \"system\",\n",
        "                        \"content\": \"You are a helpful assistant.\"\n",
        "                    },\n",
        "                    {\n",
        "                        \"role\": \"user\",\n",
        "                        \"content\": f\"Provide a summary of the novel '{novel_title}' by {novel_author}. \"\n",
        "                                   f\"Summarize in {num_sentences} sentences focusing on {chapter_or_section}.\"\n",
        "                    }\n",
        "                ]\n",
        "            )\n",
        "            summary = response.choices[0].message['content'].strip()\n",
        "            return summary\n",
        "        except openai.error.RateLimitError as e:\n",
        "            print(\"Rate limit met. Retry, 60 seconds\")\n",
        "            time.sleep(60)\n",
        "        except Exception as e:\n",
        "            print(f\"An error occurred: {e}\")\n",
        "            return None\n",
        "\n",
        "# Run the function and print the summary\n",
        "summary = get_novel_summary()\n",
        "if summary:\n",
        "    print(\"Summary:\", summary)"
      ]
    }
  ]
}