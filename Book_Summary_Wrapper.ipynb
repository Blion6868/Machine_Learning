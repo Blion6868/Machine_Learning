{
  "cells": [
    {
      "cell_type": "code",
      "execution_count": null,
      "metadata": {
        "colab": {
          "base_uri": "https://localhost:8080/"
        },
        "id": "QtPwP0j-BHhh",
        "outputId": "18467a78-da25-4503-e265-e8c0c0e1d82b"
      },
      "outputs": [
        {
          "name": "stdout",
          "output_type": "stream",
          "text": [
            "Collecting python-dotenv\n",
            "  Downloading python_dotenv-1.0.1-py3-none-any.whl.metadata (23 kB)\n",
            "Downloading python_dotenv-1.0.1-py3-none-any.whl (19 kB)\n",
            "Installing collected packages: python-dotenv\n",
            "Successfully installed python-dotenv-1.0.1\n",
            "Collecting openai==0.28\n",
            "  Downloading openai-0.28.0-py3-none-any.whl.metadata (13 kB)\n",
            "Requirement already satisfied: requests>=2.20 in /usr/local/lib/python3.11/dist-packages (from openai==0.28) (2.32.3)\n",
            "Requirement already satisfied: tqdm in /usr/local/lib/python3.11/dist-packages (from openai==0.28) (4.67.1)\n",
            "Requirement already satisfied: aiohttp in /usr/local/lib/python3.11/dist-packages (from openai==0.28) (3.11.11)\n",
            "Requirement already satisfied: charset-normalizer<4,>=2 in /usr/local/lib/python3.11/dist-packages (from requests>=2.20->openai==0.28) (3.4.1)\n",
            "Requirement already satisfied: idna<4,>=2.5 in /usr/local/lib/python3.11/dist-packages (from requests>=2.20->openai==0.28) (3.10)\n",
            "Requirement already satisfied: urllib3<3,>=1.21.1 in /usr/local/lib/python3.11/dist-packages (from requests>=2.20->openai==0.28) (2.3.0)\n",
            "Requirement already satisfied: certifi>=2017.4.17 in /usr/local/lib/python3.11/dist-packages (from requests>=2.20->openai==0.28) (2024.12.14)\n",
            "Requirement already satisfied: aiohappyeyeballs>=2.3.0 in /usr/local/lib/python3.11/dist-packages (from aiohttp->openai==0.28) (2.4.4)\n",
            "Requirement already satisfied: aiosignal>=1.1.2 in /usr/local/lib/python3.11/dist-packages (from aiohttp->openai==0.28) (1.3.2)\n",
            "Requirement already satisfied: attrs>=17.3.0 in /usr/local/lib/python3.11/dist-packages (from aiohttp->openai==0.28) (25.1.0)\n",
            "Requirement already satisfied: frozenlist>=1.1.1 in /usr/local/lib/python3.11/dist-packages (from aiohttp->openai==0.28) (1.5.0)\n",
            "Requirement already satisfied: multidict<7.0,>=4.5 in /usr/local/lib/python3.11/dist-packages (from aiohttp->openai==0.28) (6.1.0)\n",
            "Requirement already satisfied: propcache>=0.2.0 in /usr/local/lib/python3.11/dist-packages (from aiohttp->openai==0.28) (0.2.1)\n",
            "Requirement already satisfied: yarl<2.0,>=1.17.0 in /usr/local/lib/python3.11/dist-packages (from aiohttp->openai==0.28) (1.18.3)\n",
            "Downloading openai-0.28.0-py3-none-any.whl (76 kB)\n",
            "\u001b[2K   \u001b[90m━━━━━━━━━━━━━━━━━━━━━━━━━━━━━━━━━━━━━━━━\u001b[0m \u001b[32m76.5/76.5 kB\u001b[0m \u001b[31m1.6 MB/s\u001b[0m eta \u001b[36m0:00:00\u001b[0m\n",
            "\u001b[?25hInstalling collected packages: openai\n",
            "  Attempting uninstall: openai\n",
            "    Found existing installation: openai 1.59.9\n",
            "    Uninstalling openai-1.59.9:\n",
            "      Successfully uninstalled openai-1.59.9\n",
            "Successfully installed openai-0.28.0\n"
          ]
        }
      ],
      "source": [
        "#!pip install --upgrade openai\n",
        "!pip install python-dotenv\n",
        "!pip install openai==0.28"
      ]
    },
    {
      "cell_type": "code",
      "execution_count": null,
      "metadata": {
        "colab": {
          "background_save": true
        },
        "id": "FO_LulbTvmZC",
        "outputId": "21d1bf11-c81b-4202-cf7f-102b438b087c"
      },
      "outputs": [
        {
          "name": "stdout",
          "output_type": "stream",
          "text": [
            "Rate limit met. Retry, 60 seconds\n",
            "Rate limit met. Retry, 60 seconds\n",
            "Rate limit met. Retry, 60 seconds\n",
            "Rate limit met. Retry, 60 seconds\n",
            "Rate limit met. Retry, 60 seconds\n",
            "Rate limit met. Retry, 60 seconds\n",
            "Rate limit met. Retry, 60 seconds\n",
            "Rate limit met. Retry, 60 seconds\n",
            "Rate limit met. Retry, 60 seconds\n",
            "Rate limit met. Retry, 60 seconds\n",
            "Rate limit met. Retry, 60 seconds\n",
            "Rate limit met. Retry, 60 seconds\n",
            "Rate limit met. Retry, 60 seconds\n",
            "Rate limit met. Retry, 60 seconds\n",
            "Rate limit met. Retry, 60 seconds\n",
            "Rate limit met. Retry, 60 seconds\n",
            "Rate limit met. Retry, 60 seconds\n",
            "Rate limit met. Retry, 60 seconds\n",
            "Rate limit met. Retry, 60 seconds\n",
            "Rate limit met. Retry, 60 seconds\n",
            "Rate limit met. Retry, 60 seconds\n",
            "Rate limit met. Retry, 60 seconds\n",
            "Rate limit met. Retry, 60 seconds\n",
            "Rate limit met. Retry, 60 seconds\n",
            "Rate limit met. Retry, 60 seconds\n",
            "Rate limit met. Retry, 60 seconds\n",
            "Rate limit met. Retry, 60 seconds\n",
            "Rate limit met. Retry, 60 seconds\n",
            "Rate limit met. Retry, 60 seconds\n",
            "Rate limit met. Retry, 60 seconds\n",
            "Rate limit met. Retry, 60 seconds\n",
            "Rate limit met. Retry, 60 seconds\n",
            "Rate limit met. Retry, 60 seconds\n",
            "Rate limit met. Retry, 60 seconds\n",
            "Rate limit met. Retry, 60 seconds\n",
            "Rate limit met. Retry, 60 seconds\n",
            "Rate limit met. Retry, 60 seconds\n",
            "Rate limit met. Retry, 60 seconds\n",
            "Rate limit met. Retry, 60 seconds\n",
            "Rate limit met. Retry, 60 seconds\n",
            "Rate limit met. Retry, 60 seconds\n",
            "Rate limit met. Retry, 60 seconds\n",
            "Rate limit met. Retry, 60 seconds\n",
            "Rate limit met. Retry, 60 seconds\n",
            "Rate limit met. Retry, 60 seconds\n",
            "Rate limit met. Retry, 60 seconds\n",
            "Rate limit met. Retry, 60 seconds\n",
            "Rate limit met. Retry, 60 seconds\n",
            "Rate limit met. Retry, 60 seconds\n",
            "Rate limit met. Retry, 60 seconds\n",
            "Rate limit met. Retry, 60 seconds\n",
            "Rate limit met. Retry, 60 seconds\n",
            "Rate limit met. Retry, 60 seconds\n",
            "Rate limit met. Retry, 60 seconds\n",
            "Rate limit met. Retry, 60 seconds\n",
            "Rate limit met. Retry, 60 seconds\n",
            "Rate limit met. Retry, 60 seconds\n",
            "Rate limit met. Retry, 60 seconds\n",
            "Rate limit met. Retry, 60 seconds\n",
            "Rate limit met. Retry, 60 seconds\n"
          ]
        }
      ],
      "source": [
        "import openai\n",
        "import time\n",
        "\n",
        "openai.api_key = 'API_key'\n",
        "\n",
        "def get_novel_summary():\n",
        "    novel_title = input(\"Enter the novel title: \")\n",
        "    novel_author = input(\"Enter the novel author: \")\n",
        "    num_sentences = input(\"Enter the number of sentences for the summary: \")\n",
        "    chapter_or_section = input(\"Enter the chapter or section to summarize (leave blank for entire book): \")\n",
        "\n",
        "    while True:\n",
        "        try:\n",
        "            response = openai.ChatCompletion.create(\n",
        "                model=\"gpt-3.5-turbo\",\n",
        "                messages=[\n",
        "                    {\n",
        "                        \"role\": \"system\",\n",
        "                        \"content\": \"You are a helpful assistant.\"\n",
        "                    },\n",
        "                    {\n",
        "                        \"role\": \"user\",\n",
        "                        \"content\": f\"Provide a summary of the novel '{novel_title}' by {novel_author}. \"\n",
        "                                   f\"Summarize in {num_sentences} sentences focusing on {chapter_or_section}.\"\n",
        "                    }\n",
        "                ]\n",
        "            )\n",
        "            summary = response.choices[0].message['content'].strip()\n",
        "            return summary\n",
        "        except openai.error.RateLimitError as e:\n",
        "            print(\"Rate limit met. Retry, 60 seconds\")\n",
        "            time.sleep(60)\n",
        "        except Exception as e:\n",
        "            print(f\"An error occurred: {e}\")\n",
        "            return None\n",
        "\n",
        "# Run the function and print the summary\n",
        "summary = get_novel_summary()\n",
        "if summary:\n",
        "    print(\"Summary:\", summary)\n"
      ]
    }
  ],
  "metadata": {
    "colab": {
      "provenance": []
    },
    "kernelspec": {
      "display_name": "Python 3",
      "name": "python3"
    },
    "language_info": {
      "name": "python"
    }
  },
  "nbformat": 4,
  "nbformat_minor": 0
}