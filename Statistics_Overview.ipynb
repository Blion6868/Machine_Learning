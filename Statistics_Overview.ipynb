{
 "cells": [
  {
   "cell_type": "code",
   "execution_count": 6,
   "id": "least-franchise",
   "metadata": {},
   "outputs": [],
   "source": [
    "from scipy.stats import norm\n",
    "from math import sqrt"
   ]
  },
  {
   "cell_type": "markdown",
   "id": "sophisticated-ballet",
   "metadata": {},
   "source": [
    "The following code has been adapted from Thomas Nield's book Essential Math for Data Science. The case study is used to determine the population mean of a sample (sample size = 31, CLT) of golden retrievers. "
   ]
  },
  {
   "cell_type": "markdown",
   "id": "optical-contractor",
   "metadata": {},
   "source": [
    "# Golden Retriever Weight: CDF, Z-Values, and Confiedence Intervals"
   ]
  },
  {
   "cell_type": "code",
   "execution_count": 10,
   "id": "mineral-adventure",
   "metadata": {},
   "outputs": [
    {
     "data": {
      "text/plain": [
       "0.4920450147062894"
      ]
     },
     "execution_count": 10,
     "metadata": {},
     "output_type": "execute_result"
    }
   ],
   "source": [
    "#observing a golden retriever b/w 62 and 66 pounds is 49.2%\n",
    "\n",
    "mean = 64.43\n",
    "std_dev = 2.99\n",
    "\n",
    "x = norm.cdf(66, mean, std_dev) - norm.cdf(62, mean, std_dev)\n",
    "x"
   ]
  },
  {
   "cell_type": "code",
   "execution_count": 11,
   "id": "stone-coordinate",
   "metadata": {},
   "outputs": [
    {
     "name": "stdout",
     "output_type": "stream",
     "text": [
      "(-1.959963984540054, 1.959963984540054)\n"
     ]
    }
   ],
   "source": [
    "#first, we must determine the critical z-value for a normal distribution\n",
    "\n",
    "def critical_z_value(p):\n",
    "    norm_dist = norm(loc=0.0, scale=1.0)\n",
    "    left_tail_area = (1.0 - p) / 2.0\n",
    "    upper_area = 1.0 - ((1.0 - p) / 2.0)\n",
    "    return norm_dist.ppf(left_tail_area), norm_dist.ppf(upper_area)\n",
    "\n",
    "print(critical_z_value(p=.95))"
   ]
  },
  {
   "cell_type": "code",
   "execution_count": 12,
   "id": "medical-consensus",
   "metadata": {},
   "outputs": [
    {
     "name": "stdout",
     "output_type": "stream",
     "text": [
      "(63.3774604290193, 65.4825395709807)\n"
     ]
    }
   ],
   "source": [
    "#Then we need to use this critical z-value to determine the confidence we have in our sampling\n",
    "\n",
    "def confidence_interval(p, sample_mean, sample_std, n):\n",
    "    lower, upper = critical_z_value(p)\n",
    "    lower_ci = lower * (sample_std / sqrt(n))\n",
    "    upper_ci = upper * (sample_std / sqrt(n))\n",
    "    return sample_mean + lower_ci, sample_mean + upper_ci\n",
    "\n",
    "print(confidence_interval(p=.95, sample_mean=64.43, sample_std=2.99, n=31))"
   ]
  },
  {
   "cell_type": "markdown",
   "id": "productive-fruit",
   "metadata": {},
   "source": [
    "Based on the sample of 31 golden retriever weights with sample mean 64.408 and std_dev of 2.05, I am 95% confident the population mean lies b/w 63.4 and 65.5"
   ]
  },
  {
   "cell_type": "markdown",
   "id": "about-things",
   "metadata": {},
   "source": [
    "# Drug Trial: P-values and One-Tailed Test"
   ]
  },
  {
   "cell_type": "markdown",
   "id": "christian-thumbnail",
   "metadata": {},
   "source": [
    "Null Hypothesis H0: new drug has no effect on recovery"
   ]
  },
  {
   "cell_type": "markdown",
   "id": "humanitarian-amendment",
   "metadata": {},
   "source": [
    "H1: the drug succeeded in lowering the duration of a cold"
   ]
  },
  {
   "cell_type": "code",
   "execution_count": 13,
   "id": "pending-overview",
   "metadata": {},
   "outputs": [
    {
     "data": {
      "text/plain": [
       "0.9544997361036416"
      ]
     },
     "execution_count": 13,
     "metadata": {},
     "output_type": "execute_result"
    }
   ],
   "source": [
    "#one-tail test\n",
    "#probability of recovery from a cold b/w 15 and 21 days\n",
    "\n",
    "mean = 18\n",
    "std_dev = 1.5\n",
    "\n",
    "x = norm.cdf(21, mean, std_dev) - norm.cdf(15, mean, std_dev)\n",
    "x"
   ]
  },
  {
   "cell_type": "code",
   "execution_count": 14,
   "id": "lined-seventh",
   "metadata": {},
   "outputs": [
    {
     "data": {
      "text/plain": [
       "15.53271955957279"
      ]
     },
     "execution_count": 14,
     "metadata": {},
     "output_type": "execute_result"
    }
   ],
   "source": [
    "#new drug, avergae 16 day recovery\n",
    "\n",
    "mean = 18\n",
    "std_dev = 1.5\n",
    "\n",
    "x = norm.ppf(.05, mean, std_dev)\n",
    "x"
   ]
  },
  {
   "cell_type": "markdown",
   "id": "opponent-portrait",
   "metadata": {},
   "source": [
    "if we achieve an average 15.53 or fewer days of recovery, our drug is considered statistically significant; however, our sample mean of recovery time is actually 16; therefore, the significance test has failed."
   ]
  },
  {
   "cell_type": "code",
   "execution_count": 15,
   "id": "tired-norman",
   "metadata": {},
   "outputs": [
    {
     "data": {
      "text/plain": [
       "0.09121121972586788"
      ]
     },
     "execution_count": 15,
     "metadata": {},
     "output_type": "execute_result"
    }
   ],
   "source": [
    "p_value = norm.cdf(16, mean, std_dev)\n",
    "p_value"
   ]
  },
  {
   "cell_type": "markdown",
   "id": "hydraulic-calculator",
   "metadata": {},
   "source": [
    "Since the p-value is greater than the statistical significant threshold of 0.5, we do not consider the drug trial a sucess. We fail to reject the null hypothesis."
   ]
  },
  {
   "cell_type": "markdown",
   "id": "interracial-trinidad",
   "metadata": {},
   "source": [
    "# Z-Score to X Value"
   ]
  },
  {
   "cell_type": "code",
   "execution_count": null,
   "id": "approved-palmer",
   "metadata": {},
   "outputs": [],
   "source": [
    "#function to retrieve a z-score and an x value\n",
    "\n",
    "def z_score(x, mean, std):\n",
    "    return (x - mean) / std\n",
    "\n",
    "def z_to_x(z, mean, std):\n",
    "    return (z * std) + mean\n",
    "\n",
    "mean = 140000\n",
    "std_dev = 3000\n",
    "x = 150000\n",
    "\n",
    "z = z_score(x, mean, std_dev)\n",
    "back_to_x = z_to_x(z, mean, std_dev)\n",
    "\n",
    "print(\"Z-score: {}\".format(z))\n",
    "print(\"Back to X: {}\".format(back_to_x))"
   ]
  }
 ],
 "metadata": {
  "kernelspec": {
   "display_name": "Python 3",
   "language": "python",
   "name": "python3"
  },
  "language_info": {
   "codemirror_mode": {
    "name": "ipython",
    "version": 3
   },
   "file_extension": ".py",
   "mimetype": "text/x-python",
   "name": "python",
   "nbconvert_exporter": "python",
   "pygments_lexer": "ipython3",
   "version": "3.7.16"
  }
 },
 "nbformat": 4,
 "nbformat_minor": 5
}
